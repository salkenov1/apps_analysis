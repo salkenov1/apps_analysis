{
 "cells": [
  {
   "cell_type": "markdown",
   "metadata": {},
   "source": [
    "# My first Data Science project\n",
    "\n",
    "**This project is designed to help a team of developers understand what apps are dominating the market and in which direction should they go**\n",
    "\n",
    "**The goal of this project is to understand the importance of data analysis, how to analyse data efficiently and effectively.**"
   ]
  },
  {
   "cell_type": "markdown",
   "metadata": {},
   "source": [
    "# Part 1. Data Exploring"
   ]
  },
  {
   "cell_type": "markdown",
   "metadata": {},
   "source": [
    "This function helps us to explore data in different data sets, which makes it reusable"
   ]
  },
  {
   "cell_type": "code",
   "execution_count": 1,
   "metadata": {},
   "outputs": [],
   "source": [
    "def explore_data(dataset, start, end, row_and_columns=False):\n",
    "    dataset_slice = dataset[start:end]\n",
    "    for row in dataset_slice:\n",
    "        print(row)\n",
    "        print('\\n') #adds a new line after each row\n",
    "    if row_and_columns:\n",
    "        print(\"Number of rows: \", len(dataset))\n",
    "        print(\"Number of columns: \", len(dataset[0]))"
   ]
  },
  {
   "cell_type": "code",
   "execution_count": 2,
   "metadata": {
    "scrolled": true
   },
   "outputs": [
    {
     "name": "stdout",
     "output_type": "stream",
     "text": [
      "['1', '281656475', 'PAC-MAN Premium', '100788224', 'USD', '3.99', '21292', '26', '4', '4.5', '6.3.5', '4+', 'Games', '38', '5', '10', '1']\n",
      "\n",
      "\n",
      "['2', '281796108', 'Evernote - stay organized', '158578688', 'USD', '0', '161065', '26', '4', '3.5', '8.2.2', '4+', 'Productivity', '37', '5', '23', '1']\n",
      "\n",
      "\n",
      "['3', '281940292', 'WeatherBug - Local Weather, Radar, Maps, Alerts', '100524032', 'USD', '0', '188583', '2822', '3.5', '4.5', '5.0.0', '4+', 'Weather', '37', '5', '3', '1']\n",
      "\n",
      "\n",
      "['4', '282614216', 'eBay: Best App to Buy, Sell, Save! Online Shopping', '128512000', 'USD', '0', '262241', '649', '4', '4.5', '5.10.0', '12+', 'Shopping', '37', '5', '9', '1']\n",
      "\n",
      "\n",
      "['5', '282935706', 'Bible', '92774400', 'USD', '0', '985920', '5320', '4.5', '5', '7.5.1', '4+', 'Reference', '37', '5', '45', '1']\n",
      "\n",
      "\n",
      "['6', '283619399', 'Shanghai Mahjong', '10485713', 'USD', '0.99', '8253', '5516', '4', '4', '1.8', '4+', 'Games', '47', '5', '1', '1']\n",
      "\n",
      "\n",
      "['7', '283646709', 'PayPal - Send and request money safely', '227795968', 'USD', '0', '119487', '879', '4', '4.5', '6.12.0', '4+', 'Finance', '37', '0', '19', '1']\n",
      "\n",
      "\n",
      "['8', '284035177', 'Pandora - Music & Radio', '130242560', 'USD', '0', '1126879', '3594', '4', '4.5', '8.4.1', '12+', 'Music', '37', '4', '1', '1']\n",
      "\n",
      "\n",
      "['9', '284666222', 'PCalc - The Best Calculator', '49250304', 'USD', '9.99', '1117', '4', '4.5', '5', '3.6.6', '4+', 'Utilities', '37', '5', '1', '1']\n",
      "\n",
      "\n",
      "['10', '284736660', 'Ms. PAC-MAN', '70023168', 'USD', '3.99', '7885', '40', '4', '4', '4.0.4', '4+', 'Games', '38', '0', '10', '1']\n",
      "\n",
      "\n",
      "Number of rows:  7197\n",
      "Number of columns:  17\n"
     ]
    }
   ],
   "source": [
    "opened_file = open(\"AppleStore.csv\", encoding='utf8')\n",
    "from csv import reader\n",
    "reader_file = reader(opened_file)\n",
    "app_store_list = list(reader_file)\n",
    "app_store_header = app_store_list[0]\n",
    "app_store = app_store_list[1:]\n",
    "\n",
    "explore_data(app_store, 0, 10, True)"
   ]
  },
  {
   "cell_type": "code",
   "execution_count": 3,
   "metadata": {
    "scrolled": true
   },
   "outputs": [
    {
     "name": "stdout",
     "output_type": "stream",
     "text": [
      "['Photo Editor & Candy Camera & Grid & ScrapBook', 'ART_AND_DESIGN', '4.1', '159', '19M', '10,000+', 'Free', '0', 'Everyone', 'Art & Design', 'January 7, 2018', '1.0.0', '4.0.3 and up']\n",
      "\n",
      "\n",
      "['Coloring book moana', 'ART_AND_DESIGN', '3.9', '967', '14M', '500,000+', 'Free', '0', 'Everyone', 'Art & Design;Pretend Play', 'January 15, 2018', '2.0.0', '4.0.3 and up']\n",
      "\n",
      "\n",
      "['U Launcher Lite – FREE Live Cool Themes, Hide Apps', 'ART_AND_DESIGN', '4.7', '87510', '8.7M', '5,000,000+', 'Free', '0', 'Everyone', 'Art & Design', 'August 1, 2018', '1.2.4', '4.0.3 and up']\n",
      "\n",
      "\n",
      "['Sketch - Draw & Paint', 'ART_AND_DESIGN', '4.5', '215644', '25M', '50,000,000+', 'Free', '0', 'Teen', 'Art & Design', 'June 8, 2018', 'Varies with device', '4.2 and up']\n",
      "\n",
      "\n",
      "['Pixel Draw - Number Art Coloring Book', 'ART_AND_DESIGN', '4.3', '967', '2.8M', '100,000+', 'Free', '0', 'Everyone', 'Art & Design;Creativity', 'June 20, 2018', '1.1', '4.4 and up']\n",
      "\n",
      "\n",
      "['Paper flowers instructions', 'ART_AND_DESIGN', '4.4', '167', '5.6M', '50,000+', 'Free', '0', 'Everyone', 'Art & Design', 'March 26, 2017', '1.0', '2.3 and up']\n",
      "\n",
      "\n",
      "['Smoke Effect Photo Maker - Smoke Editor', 'ART_AND_DESIGN', '3.8', '178', '19M', '50,000+', 'Free', '0', 'Everyone', 'Art & Design', 'April 26, 2018', '1.1', '4.0.3 and up']\n",
      "\n",
      "\n",
      "['Infinite Painter', 'ART_AND_DESIGN', '4.1', '36815', '29M', '1,000,000+', 'Free', '0', 'Everyone', 'Art & Design', 'June 14, 2018', '6.1.61.1', '4.2 and up']\n",
      "\n",
      "\n",
      "['Garden Coloring Book', 'ART_AND_DESIGN', '4.4', '13791', '33M', '1,000,000+', 'Free', '0', 'Everyone', 'Art & Design', 'September 20, 2017', '2.9.2', '3.0 and up']\n",
      "\n",
      "\n",
      "['Kids Paint Free - Drawing Fun', 'ART_AND_DESIGN', '4.7', '121', '3.1M', '10,000+', 'Free', '0', 'Everyone', 'Art & Design;Creativity', 'July 3, 2018', '2.8', '4.0.3 and up']\n",
      "\n",
      "\n",
      "Number of rows:  10841\n",
      "Number of columns:  13\n"
     ]
    }
   ],
   "source": [
    "opened_file_1 = open(\"googleplaystore.csv\", encoding='utf8')\n",
    "reader_file_1 = reader(opened_file_1)\n",
    "google_store_list = list(reader_file_1)\n",
    "google_store_header = google_store_list[0]\n",
    "google_store = google_store_list[1:]\n",
    "\n",
    "explore_data(google_store, 0, 10, True)"
   ]
  },
  {
   "cell_type": "markdown",
   "metadata": {},
   "source": [
    "**Let's have headers of both datasets in a seperated cell for visual representation**\n",
    "> Table 1. Header row representation of AppleStore.csv (not full)\n",
    "\n",
    "| index_number | Label            | Description                       |\n",
    "|--------------|------------------|-----------------------------------|\n",
    "| 1            | id               | Id of the app in AppleStore       |\n",
    "| 2            | track_name       | Name of the app                   |\n",
    "| 3            | size_bytes       | Size of the app                   |\n",
    "| 4            | currency         | Price currency of the app         |\n",
    "| 5            | price            | Price of the app                  |\n",
    "| 6            | rating_count_tot | Total rating of the app           |\n",
    "| 7            | rating_count_ver | Rating of the app by version      |\n",
    "| 8            | user_rating      | User rating of the app            |\n",
    "| 9            | user_rating_ver  | User rating of the app by version |\n",
    "| 10           | ver              | Current version of the app        |\n",
    "| 12           | cont_rating      | Content                               |\n",
    "| 12           | prime_genre      | Genre of the app                  |\n",
    "\n",
    "> Table 2. Header row representation of googleplaystore.csv (not full)\n",
    "\n",
    "| index_number | Label          |\n",
    "|--------------|----------------|\n",
    "| 0            | App            |\n",
    "| 1            | Category       |\n",
    "| 2            | Rating         |\n",
    "| 3            | Reviews        |\n",
    "| 4            | Size           |\n",
    "| 5            | Installs       |\n",
    "| 6            | Type           |\n",
    "| 7            | Price          |\n",
    "| 8            | Content Rating |\n",
    "| 9            | Genres         |\n",
    "| 10           | Last Updated   |\n",
    "| 11           | Current Ver    |\n",
    "| 12           | Android Ver    |\n"
   ]
  },
  {
   "cell_type": "code",
   "execution_count": 4,
   "metadata": {
    "scrolled": false
   },
   "outputs": [
    {
     "name": "stdout",
     "output_type": "stream",
     "text": [
      "['Life Made WI-Fi Touchscreen Photo Frame', '1.9', '19', '3.0M', '1,000+', 'Free', '0', 'Everyone', '', 'February 11, 2018', '1.0.19', '4.0 and up']\n",
      "['Photo Editor & Candy Camera & Grid & ScrapBook', 'ART_AND_DESIGN', '4.1', '159', '19M', '10,000+', 'Free', '0', 'Everyone', 'Art & Design', 'January 7, 2018', '1.0.0', '4.0.3 and up']\n",
      "\n",
      "\n",
      "['App', 'Category', 'Rating', 'Reviews', 'Size', 'Installs', 'Type', 'Price', 'Content Rating', 'Genres', 'Last Updated', 'Current Ver', 'Android Ver']\n"
     ]
    }
   ],
   "source": [
    "print(google_store[10472])\n",
    "print(google_store[0])\n",
    "print('\\n')\n",
    "print(google_store_header)\n"
   ]
  },
  {
   "cell_type": "code",
   "execution_count": 5,
   "metadata": {},
   "outputs": [],
   "source": [
    "del google_store[10472]"
   ]
  },
  {
   "cell_type": "code",
   "execution_count": 6,
   "metadata": {
    "scrolled": true
   },
   "outputs": [
    {
     "name": "stdout",
     "output_type": "stream",
     "text": [
      "Number of duplicate apps:  1181\n",
      "Number of unique apps:  9659\n"
     ]
    }
   ],
   "source": [
    "duplicate_apps = []\n",
    "unique_apps = []\n",
    "for app in google_store:\n",
    "    name = app[0]\n",
    "    if name in unique_apps:\n",
    "        duplicate_apps.append(name)\n",
    "    else:\n",
    "        unique_apps.append(name)\n",
    "print(\"Number of duplicate apps: \", len(duplicate_apps))\n",
    "print(\"Number of unique apps: \", len(unique_apps))"
   ]
  },
  {
   "cell_type": "markdown",
   "metadata": {},
   "source": [
    "# Part 2. Data cleaning\n",
    "\n",
    "## Cleaning google_store dataset\n",
    "**Let's start by creating a dictionary**"
   ]
  },
  {
   "cell_type": "code",
   "execution_count": 7,
   "metadata": {},
   "outputs": [
    {
     "name": "stdout",
     "output_type": "stream",
     "text": [
      "9659\n"
     ]
    }
   ],
   "source": [
    "#create a dictionary for each duplicate app with name-review (key-value) pair\n",
    "reviews_max = {}\n",
    "for app in google_store:\n",
    "    name = app[0]\n",
    "    n_reviews = float(app[3])\n",
    "    if name in reviews_max and reviews_max[name] < n_reviews:\n",
    "        reviews_max[name] = n_reviews\n",
    "    elif name not in reviews_max:\n",
    "        reviews_max[name] = n_reviews\n",
    "        \n",
    "print(len(reviews_max))"
   ]
  },
  {
   "cell_type": "markdown",
   "metadata": {},
   "source": [
    "With the help of a dictionary we could find apps with the heighest number of reviews (among the same name apps). The heighest number of reviews shows us an original app."
   ]
  },
  {
   "cell_type": "code",
   "execution_count": 8,
   "metadata": {},
   "outputs": [
    {
     "name": "stdout",
     "output_type": "stream",
     "text": [
      "['Photo Editor & Candy Camera & Grid & ScrapBook', 'ART_AND_DESIGN', '4.1', '159', '19M', '10,000+', 'Free', '0', 'Everyone', 'Art & Design', 'January 7, 2018', '1.0.0', '4.0.3 and up']\n",
      "\n",
      "\n",
      "['U Launcher Lite – FREE Live Cool Themes, Hide Apps', 'ART_AND_DESIGN', '4.7', '87510', '8.7M', '5,000,000+', 'Free', '0', 'Everyone', 'Art & Design', 'August 1, 2018', '1.2.4', '4.0.3 and up']\n",
      "\n",
      "\n",
      "['Sketch - Draw & Paint', 'ART_AND_DESIGN', '4.5', '215644', '25M', '50,000,000+', 'Free', '0', 'Teen', 'Art & Design', 'June 8, 2018', 'Varies with device', '4.2 and up']\n",
      "\n",
      "\n",
      "['Pixel Draw - Number Art Coloring Book', 'ART_AND_DESIGN', '4.3', '967', '2.8M', '100,000+', 'Free', '0', 'Everyone', 'Art & Design;Creativity', 'June 20, 2018', '1.1', '4.4 and up']\n",
      "\n",
      "\n",
      "['Paper flowers instructions', 'ART_AND_DESIGN', '4.4', '167', '5.6M', '50,000+', 'Free', '0', 'Everyone', 'Art & Design', 'March 26, 2017', '1.0', '2.3 and up']\n",
      "\n",
      "\n",
      "['Smoke Effect Photo Maker - Smoke Editor', 'ART_AND_DESIGN', '3.8', '178', '19M', '50,000+', 'Free', '0', 'Everyone', 'Art & Design', 'April 26, 2018', '1.1', '4.0.3 and up']\n",
      "\n",
      "\n",
      "['Infinite Painter', 'ART_AND_DESIGN', '4.1', '36815', '29M', '1,000,000+', 'Free', '0', 'Everyone', 'Art & Design', 'June 14, 2018', '6.1.61.1', '4.2 and up']\n",
      "\n",
      "\n",
      "['Garden Coloring Book', 'ART_AND_DESIGN', '4.4', '13791', '33M', '1,000,000+', 'Free', '0', 'Everyone', 'Art & Design', 'September 20, 2017', '2.9.2', '3.0 and up']\n",
      "\n",
      "\n",
      "['Kids Paint Free - Drawing Fun', 'ART_AND_DESIGN', '4.7', '121', '3.1M', '10,000+', 'Free', '0', 'Everyone', 'Art & Design;Creativity', 'July 3, 2018', '2.8', '4.0.3 and up']\n",
      "\n",
      "\n",
      "['Text on Photo - Fonteee', 'ART_AND_DESIGN', '4.4', '13880', '28M', '1,000,000+', 'Free', '0', 'Everyone', 'Art & Design', 'October 27, 2017', '1.0.4', '4.1 and up']\n",
      "\n",
      "\n",
      "Number of rows:  9659\n",
      "Number of columns:  13\n"
     ]
    }
   ],
   "source": [
    "android_clean = []\n",
    "already_added = []\n",
    "for app in google_store:\n",
    "    name = app[0]\n",
    "    n_reviews = float(app[3])\n",
    "    if (reviews_max[name] == n_reviews) and (name not in already_added):\n",
    "        android_clean.append(app)\n",
    "        already_added.append(name)\n",
    "explore_data(android_clean, 0, 10, True)"
   ]
  },
  {
   "cell_type": "markdown",
   "metadata": {},
   "source": [
    "Therefore, we could use it to clean our initial dataset (google_store) and make a new clean android_clean dataset by comparing dictionary key-value pairs with the initial dataset."
   ]
  },
  {
   "cell_type": "markdown",
   "metadata": {},
   "source": [
    "## Remove non-English apps\n",
    "**To make our data clean, we need to remove non-English apps (apps that have more than 3 non-english characters)**\n",
    "1. We define a function. It checks an app name and returns true if the app name contains less than 3 non-english characters\n",
    "2. We clean our data by employing the function and save it"
   ]
  },
  {
   "cell_type": "code",
   "execution_count": 9,
   "metadata": {},
   "outputs": [],
   "source": [
    "def check_english(string):\n",
    "    n_ascii = 0\n",
    "    for letter in string:\n",
    "        if ord(letter) > 127:\n",
    "            n_ascii += 1\n",
    "    if n_ascii > 3:\n",
    "        return False\n",
    "    return True"
   ]
  },
  {
   "cell_type": "code",
   "execution_count": 10,
   "metadata": {
    "scrolled": false
   },
   "outputs": [
    {
     "name": "stdout",
     "output_type": "stream",
     "text": [
      "6183\n",
      "9614\n"
     ]
    }
   ],
   "source": [
    "ios_english = []\n",
    "android_english = []\n",
    "for app in app_store:\n",
    "    name = app[2]\n",
    "    if check_english(name):\n",
    "        ios_english.append(app)\n",
    "for app in android_clean:\n",
    "    name = app[0]\n",
    "    if check_english(name):\n",
    "        android_english.append(app)\n",
    "print(len(ios_english))\n",
    "print(len(android_english))"
   ]
  },
  {
   "cell_type": "markdown",
   "metadata": {},
   "source": [
    "## Isolating non-free apps"
   ]
  },
  {
   "cell_type": "code",
   "execution_count": 11,
   "metadata": {
    "scrolled": true
   },
   "outputs": [
    {
     "name": "stdout",
     "output_type": "stream",
     "text": [
      "3222\n",
      "8864\n"
     ]
    }
   ],
   "source": [
    "ios_english_free = []\n",
    "android_english_free = []\n",
    "for app in ios_english:\n",
    "    price = float(app[5])\n",
    "    if price == 0.0:\n",
    "        ios_english_free.append(app)\n",
    "for app in android_english:\n",
    "    price = app[7]\n",
    "    if price == \"0\":\n",
    "        android_english_free.append(app)\n",
    "print(len(ios_english_free))\n",
    "print(len(android_english_free))"
   ]
  },
  {
   "cell_type": "markdown",
   "metadata": {},
   "source": [
    "Isolating the free apps will be our last step in the data cleaning process. On the next cells, we're going to start analyzing the data."
   ]
  },
  {
   "cell_type": "markdown",
   "metadata": {},
   "source": [
    "# Part 3. Data Analysis\n",
    "\n",
    "**In this part, we are going to analyse our data based on different parameters i.e. genres, content ratings etc.**"
   ]
  },
  {
   "cell_type": "code",
   "execution_count": 12,
   "metadata": {},
   "outputs": [],
   "source": [
    "def freq_table(dataset, index):\n",
    "    table = {}\n",
    "    total = 0\n",
    "    for each in dataset:\n",
    "        total += 1\n",
    "        value = each[index]\n",
    "        if value in table:\n",
    "            table[value] += 1\n",
    "        else:\n",
    "            table[value] = 1\n",
    "    result = {}\n",
    "    for key in table:\n",
    "        value = (table[key]/total)*100\n",
    "        result[key] = value\n",
    "    return result"
   ]
  },
  {
   "cell_type": "code",
   "execution_count": 13,
   "metadata": {},
   "outputs": [],
   "source": [
    "def display_table(dataset, index):\n",
    "    table = freq_table(dataset, index)\n",
    "    table_display = []\n",
    "    for key in table:\n",
    "        key_val_as_tuple = (table[key], key)\n",
    "        table_display.append(key_val_as_tuple)\n",
    "\n",
    "    table_sorted = sorted(table_display, reverse = True)\n",
    "    for entry in table_sorted:\n",
    "        print(entry[1], ':', entry[0])"
   ]
  },
  {
   "cell_type": "code",
   "execution_count": 14,
   "metadata": {
    "scrolled": false
   },
   "outputs": [
    {
     "name": "stdout",
     "output_type": "stream",
     "text": [
      "Games : 58.16263190564867\n",
      "Entertainment : 7.883302296710118\n",
      "Photo & Video : 4.9658597144630665\n",
      "Education : 3.662321539416512\n",
      "Social Networking : 3.2898820608317814\n",
      "Shopping : 2.60707635009311\n",
      "Utilities : 2.5139664804469275\n",
      "Sports : 2.1415270018621975\n",
      "Music : 2.0484171322160147\n",
      "Health & Fitness : 2.0173805090006205\n",
      "Productivity : 1.7380509000620732\n",
      "Lifestyle : 1.5828677839851024\n",
      "News : 1.3345747982619491\n",
      "Travel : 1.2414649286157666\n",
      "Finance : 1.1173184357541899\n",
      "Weather : 0.8690254500310366\n",
      "Food & Drink : 0.8069522036002483\n",
      "Reference : 0.5586592178770949\n",
      "Business : 0.5276225946617008\n",
      "Book : 0.4345127250155183\n",
      "Navigation : 0.186219739292365\n",
      "Medical : 0.186219739292365\n",
      "Catalogs : 0.12414649286157665\n"
     ]
    }
   ],
   "source": [
    "# display the frequency table of genres\n",
    "prime_genre_ios = display_table(ios_english_free, 12)"
   ]
  },
  {
   "cell_type": "markdown",
   "metadata": {},
   "source": [
    "- It is evident from the results above that the dominating genre on iOS is Games (58% of total)\n",
    "- The second most common genre is Entertaiment with almost 8% of total genres\n",
    "- Surprisingly, Social Networking takes only 3.3% of total genres and gives in it's position to Photo & Video AND Education"
   ]
  },
  {
   "cell_type": "markdown",
   "metadata": {},
   "source": [
    "- **Generally speaking, we can see that the app designed for practical purposes (education, shopping, utilities, productivity, lifestyle) are much less used as compared to the entertainment apps (games, photo and video, social networking, sports, music). It is due to the modern society priorities and lifestyle.**\n",
    "- **However, I cannot recommend any app based only on this frequency table. But certainly, I can say that Games genre has the highest number of people using/playing it.&**"
   ]
  },
  {
   "cell_type": "code",
   "execution_count": 15,
   "metadata": {},
   "outputs": [
    {
     "name": "stdout",
     "output_type": "stream",
     "text": [
      "Tools : 8.449909747292418\n",
      "Entertainment : 6.069494584837545\n",
      "Education : 5.347472924187725\n",
      "Business : 4.591606498194946\n",
      "Productivity : 3.892148014440433\n",
      "Lifestyle : 3.892148014440433\n",
      "Finance : 3.7003610108303246\n",
      "Medical : 3.531137184115524\n",
      "Sports : 3.463447653429603\n",
      "Personalization : 3.3167870036101084\n",
      "Communication : 3.2378158844765346\n",
      "Action : 3.1024368231046933\n",
      "Health & Fitness : 3.0798736462093865\n",
      "Photography : 2.944494584837545\n",
      "News & Magazines : 2.7978339350180503\n",
      "Social : 2.6624548736462095\n",
      "Travel & Local : 2.3240072202166067\n",
      "Shopping : 2.2450361010830324\n",
      "Books & Reference : 2.1435018050541514\n",
      "Simulation : 2.0419675090252705\n",
      "Dating : 1.861462093862816\n",
      "Arcade : 1.8501805054151623\n",
      "Video Players & Editors : 1.7712093862815883\n",
      "Casual : 1.7599277978339352\n",
      "Maps & Navigation : 1.3989169675090252\n",
      "Food & Drink : 1.2409747292418771\n",
      "Puzzle : 1.128158844765343\n",
      "Racing : 0.9927797833935018\n",
      "Role Playing : 0.9363718411552346\n",
      "Libraries & Demo : 0.9363718411552346\n",
      "Auto & Vehicles : 0.9250902527075812\n",
      "Strategy : 0.9138086642599278\n",
      "House & Home : 0.8235559566787004\n",
      "Weather : 0.8009927797833934\n",
      "Events : 0.7107400722021661\n",
      "Adventure : 0.6768953068592057\n",
      "Comics : 0.6092057761732852\n",
      "Beauty : 0.5979241877256317\n",
      "Art & Design : 0.5979241877256317\n",
      "Parenting : 0.4963898916967509\n",
      "Card : 0.45126353790613716\n",
      "Casino : 0.42870036101083037\n",
      "Trivia : 0.41741877256317694\n",
      "Educational;Education : 0.39485559566787\n",
      "Board : 0.3835740072202166\n",
      "Educational : 0.3722924187725632\n",
      "Education;Education : 0.33844765342960287\n",
      "Word : 0.2594765342960289\n",
      "Casual;Pretend Play : 0.236913357400722\n",
      "Music : 0.2030685920577617\n",
      "Racing;Action & Adventure : 0.16922382671480143\n",
      "Puzzle;Brain Games : 0.16922382671480143\n",
      "Entertainment;Music & Video : 0.16922382671480143\n",
      "Casual;Brain Games : 0.13537906137184114\n",
      "Casual;Action & Adventure : 0.13537906137184114\n",
      "Arcade;Action & Adventure : 0.12409747292418773\n",
      "Action;Action & Adventure : 0.10153429602888085\n",
      "Educational;Pretend Play : 0.09025270758122744\n",
      "Simulation;Action & Adventure : 0.078971119133574\n",
      "Parenting;Education : 0.078971119133574\n",
      "Entertainment;Brain Games : 0.078971119133574\n",
      "Board;Brain Games : 0.078971119133574\n",
      "Parenting;Music & Video : 0.06768953068592057\n",
      "Educational;Brain Games : 0.06768953068592057\n",
      "Casual;Creativity : 0.06768953068592057\n",
      "Art & Design;Creativity : 0.06768953068592057\n",
      "Education;Pretend Play : 0.056407942238267145\n",
      "Role Playing;Pretend Play : 0.04512635379061372\n",
      "Education;Creativity : 0.04512635379061372\n",
      "Role Playing;Action & Adventure : 0.033844765342960284\n",
      "Puzzle;Action & Adventure : 0.033844765342960284\n",
      "Entertainment;Creativity : 0.033844765342960284\n",
      "Entertainment;Action & Adventure : 0.033844765342960284\n",
      "Educational;Creativity : 0.033844765342960284\n",
      "Educational;Action & Adventure : 0.033844765342960284\n",
      "Education;Music & Video : 0.033844765342960284\n",
      "Education;Brain Games : 0.033844765342960284\n",
      "Education;Action & Adventure : 0.033844765342960284\n",
      "Adventure;Action & Adventure : 0.033844765342960284\n",
      "Video Players & Editors;Music & Video : 0.02256317689530686\n",
      "Sports;Action & Adventure : 0.02256317689530686\n",
      "Simulation;Pretend Play : 0.02256317689530686\n",
      "Puzzle;Creativity : 0.02256317689530686\n",
      "Music;Music & Video : 0.02256317689530686\n",
      "Entertainment;Pretend Play : 0.02256317689530686\n",
      "Casual;Education : 0.02256317689530686\n",
      "Board;Action & Adventure : 0.02256317689530686\n",
      "Video Players & Editors;Creativity : 0.01128158844765343\n",
      "Trivia;Education : 0.01128158844765343\n",
      "Travel & Local;Action & Adventure : 0.01128158844765343\n",
      "Tools;Education : 0.01128158844765343\n",
      "Strategy;Education : 0.01128158844765343\n",
      "Strategy;Creativity : 0.01128158844765343\n",
      "Strategy;Action & Adventure : 0.01128158844765343\n",
      "Simulation;Education : 0.01128158844765343\n",
      "Role Playing;Brain Games : 0.01128158844765343\n",
      "Racing;Pretend Play : 0.01128158844765343\n",
      "Puzzle;Education : 0.01128158844765343\n",
      "Parenting;Brain Games : 0.01128158844765343\n",
      "Music & Audio;Music & Video : 0.01128158844765343\n",
      "Lifestyle;Pretend Play : 0.01128158844765343\n",
      "Lifestyle;Education : 0.01128158844765343\n",
      "Health & Fitness;Education : 0.01128158844765343\n",
      "Health & Fitness;Action & Adventure : 0.01128158844765343\n",
      "Entertainment;Education : 0.01128158844765343\n",
      "Communication;Creativity : 0.01128158844765343\n",
      "Comics;Creativity : 0.01128158844765343\n",
      "Casual;Music & Video : 0.01128158844765343\n",
      "Card;Action & Adventure : 0.01128158844765343\n",
      "Books & Reference;Education : 0.01128158844765343\n",
      "Art & Design;Pretend Play : 0.01128158844765343\n",
      "Art & Design;Action & Adventure : 0.01128158844765343\n",
      "Arcade;Pretend Play : 0.01128158844765343\n",
      "Adventure;Education : 0.01128158844765343\n"
     ]
    }
   ],
   "source": [
    "genres_android = display_table(android_english_free, 9)"
   ]
  },
  {
   "cell_type": "markdown",
   "metadata": {},
   "source": [
    "According to these results, \n",
    "- the most frequent genre in GooglePlayStore is Tools (which takes about 8.45% of all genres)\n",
    "- suprisingly, Education comes alongside with Entertaiment in the short range (about 0.7% difference)\n",
    "\n",
    "Moreover, comparing to the results from AppStore, it is clearly observable that Entertainment in GooglePlayStore is much less than in AppStore (about 2% less), but Education is much bigger than in AppStore (about 1.7% higher). It clearly indicates the balanced landscape of both practical and fun apps in GooglePlayStore"
   ]
  },
  {
   "cell_type": "code",
   "execution_count": 16,
   "metadata": {},
   "outputs": [
    {
     "name": "stdout",
     "output_type": "stream",
     "text": [
      "FAMILY : 18.907942238267147\n",
      "GAME : 9.724729241877256\n",
      "TOOLS : 8.461191335740072\n",
      "BUSINESS : 4.591606498194946\n",
      "LIFESTYLE : 3.9034296028880866\n",
      "PRODUCTIVITY : 3.892148014440433\n",
      "FINANCE : 3.7003610108303246\n",
      "MEDICAL : 3.531137184115524\n",
      "SPORTS : 3.395758122743682\n",
      "PERSONALIZATION : 3.3167870036101084\n",
      "COMMUNICATION : 3.2378158844765346\n",
      "HEALTH_AND_FITNESS : 3.0798736462093865\n",
      "PHOTOGRAPHY : 2.944494584837545\n",
      "NEWS_AND_MAGAZINES : 2.7978339350180503\n",
      "SOCIAL : 2.6624548736462095\n",
      "TRAVEL_AND_LOCAL : 2.33528880866426\n",
      "SHOPPING : 2.2450361010830324\n",
      "BOOKS_AND_REFERENCE : 2.1435018050541514\n",
      "DATING : 1.861462093862816\n",
      "VIDEO_PLAYERS : 1.7937725631768955\n",
      "MAPS_AND_NAVIGATION : 1.3989169675090252\n",
      "FOOD_AND_DRINK : 1.2409747292418771\n",
      "EDUCATION : 1.1620036101083033\n",
      "ENTERTAINMENT : 0.9589350180505415\n",
      "LIBRARIES_AND_DEMO : 0.9363718411552346\n",
      "AUTO_AND_VEHICLES : 0.9250902527075812\n",
      "HOUSE_AND_HOME : 0.8235559566787004\n",
      "WEATHER : 0.8009927797833934\n",
      "EVENTS : 0.7107400722021661\n",
      "PARENTING : 0.6543321299638989\n",
      "ART_AND_DESIGN : 0.6430505415162455\n",
      "COMICS : 0.6204873646209386\n",
      "BEAUTY : 0.5979241877256317\n"
     ]
    }
   ],
   "source": [
    "# display the frequency table of category\n",
    "category_android = display_table(android_english_free, 1)"
   ]
  },
  {
   "cell_type": "markdown",
   "metadata": {},
   "source": [
    "According to this list,\n",
    "- Family category prevails over the runner-up (Game), taking twice than it\n",
    "- Tools and Game genres come alongside with the minor difference between it (1.3%)"
   ]
  },
  {
   "cell_type": "markdown",
   "metadata": {},
   "source": [
    "Let's start with calculating the average number of user ratings per app genre on the App Store. To do that, we'll need to:\n",
    "\n",
    "- Isolate the apps of each genre.\n",
    "- Sum up the user ratings for the apps of that genre.\n",
    "- Divide the sum by the number of apps belonging to that genre (not by the total number of apps)."
   ]
  },
  {
   "cell_type": "code",
   "execution_count": 26,
   "metadata": {},
   "outputs": [],
   "source": [
    "prime_genre_frequency = freq_table(ios_english_free, 12)"
   ]
  },
  {
   "cell_type": "code",
   "execution_count": 34,
   "metadata": {},
   "outputs": [
    {
     "name": "stdout",
     "output_type": "stream",
     "text": [
      "This is Productivity and its average user rating is 4.0\n",
      "This is Weather and its average user rating is 3.482142857142857\n",
      "This is Shopping and its average user rating is 3.9702380952380953\n",
      "This is Reference and its average user rating is 3.6666666666666665\n",
      "This is Finance and its average user rating is 3.375\n",
      "This is Music and its average user rating is 3.946969696969697\n",
      "This is Utilities and its average user rating is 3.5308641975308643\n",
      "This is Travel and its average user rating is 3.4875\n",
      "This is Social Networking and its average user rating is 3.5943396226415096\n",
      "This is Sports and its average user rating is 3.0652173913043477\n",
      "This is Health & Fitness and its average user rating is 3.769230769230769\n",
      "This is Games and its average user rating is 4.037086446104589\n",
      "This is Food & Drink and its average user rating is 3.6346153846153846\n",
      "This is News and its average user rating is 3.244186046511628\n",
      "This is Book and its average user rating is 3.0714285714285716\n",
      "This is Photo & Video and its average user rating is 3.903125\n",
      "This is Entertainment and its average user rating is 3.5393700787401574\n",
      "This is Business and its average user rating is 3.9705882352941178\n",
      "This is Lifestyle and its average user rating is 3.411764705882353\n",
      "This is Education and its average user rating is 3.635593220338983\n",
      "This is Navigation and its average user rating is 3.8333333333333335\n",
      "This is Medical and its average user rating is 3.0\n",
      "This is Catalogs and its average user rating is 4.125\n"
     ]
    }
   ],
   "source": [
    "for genre in prime_genre_frequency:\n",
    "    total = 0\n",
    "    len_genre = 0\n",
    "    for app in ios_english_free:\n",
    "        genre_app = app[12]\n",
    "        if genre_app == genre:\n",
    "            n_user_rating = float(app[8])\n",
    "            total += n_user_rating\n",
    "            len_genre += 1\n",
    "    avg_n_user_rating = total / len_genre\n",
    "    print(\"This is\", genre, \"and its average user rating is\", avg_n_user_rating)"
   ]
  },
  {
   "cell_type": "markdown",
   "metadata": {},
   "source": [
    "In the cell above, we can see the average user rating for each genre. It is evident from the results that Catalogs has the highest average user rating while Medical - the lowest. The most frequent genre in the AppStore is Games has the average user rating around 4.04, which higher than the runner-up's rating (Entertainment - 3.54)."
   ]
  },
  {
   "cell_type": "code",
   "execution_count": 31,
   "metadata": {
    "scrolled": true
   },
   "outputs": [
    {
     "name": "stdout",
     "output_type": "stream",
     "text": [
      "This is ART_AND_DESIGN and its average number of installs: 1986335.0877192982\n",
      "This is AUTO_AND_VEHICLES and its average number of installs: 647317.8170731707\n",
      "This is BEAUTY and its average number of installs: 513151.88679245283\n",
      "This is BOOKS_AND_REFERENCE and its average number of installs: 8767811.894736841\n",
      "This is BUSINESS and its average number of installs: 1712290.1474201474\n",
      "This is COMICS and its average number of installs: 817657.2727272727\n",
      "This is COMMUNICATION and its average number of installs: 38456119.167247385\n",
      "This is DATING and its average number of installs: 854028.8303030303\n",
      "This is EDUCATION and its average number of installs: 1833495.145631068\n",
      "This is ENTERTAINMENT and its average number of installs: 11640705.88235294\n",
      "This is EVENTS and its average number of installs: 253542.22222222222\n",
      "This is FINANCE and its average number of installs: 1387692.475609756\n",
      "This is FOOD_AND_DRINK and its average number of installs: 1924897.7363636363\n",
      "This is HEALTH_AND_FITNESS and its average number of installs: 4188821.9853479853\n",
      "This is HOUSE_AND_HOME and its average number of installs: 1331540.5616438356\n",
      "This is LIBRARIES_AND_DEMO and its average number of installs: 638503.734939759\n",
      "This is LIFESTYLE and its average number of installs: 1437816.2687861272\n",
      "This is GAME and its average number of installs: 15588015.603248259\n",
      "This is FAMILY and its average number of installs: 3695641.8198090694\n",
      "This is MEDICAL and its average number of installs: 120550.61980830671\n",
      "This is SOCIAL and its average number of installs: 23253652.127118643\n",
      "This is SHOPPING and its average number of installs: 7036877.311557789\n",
      "This is PHOTOGRAPHY and its average number of installs: 17840110.40229885\n",
      "This is SPORTS and its average number of installs: 3638640.1428571427\n",
      "This is TRAVEL_AND_LOCAL and its average number of installs: 13984077.710144928\n",
      "This is TOOLS and its average number of installs: 10801391.298666667\n",
      "This is PERSONALIZATION and its average number of installs: 5201482.6122448975\n",
      "This is PRODUCTIVITY and its average number of installs: 16787331.344927534\n",
      "This is PARENTING and its average number of installs: 542603.6206896552\n",
      "This is WEATHER and its average number of installs: 5074486.197183099\n",
      "This is VIDEO_PLAYERS and its average number of installs: 24727872.452830188\n",
      "This is NEWS_AND_MAGAZINES and its average number of installs: 9549178.467741935\n",
      "This is MAPS_AND_NAVIGATION and its average number of installs: 4056941.7741935486\n"
     ]
    }
   ],
   "source": [
    "android_category_freq = freq_table(android_english_free, 1)\n",
    "\n",
    "for category in android_category_freq:\n",
    "    total = 0\n",
    "    len_category = 0\n",
    "    for app in android_english_free:\n",
    "        category_app = app[1]\n",
    "        if category_app == category:\n",
    "            n_install_comma = app[5].replace(\"+\", \"\")\n",
    "            n_install_str = n_install_comma.replace(\",\", \"\")\n",
    "            n_install = float(n_install_str)\n",
    "            total += n_install\n",
    "            len_category += 1\n",
    "    avg_n_installs = total / len_category\n",
    "    print(\"This is\", category, \"and its average number of installs:\", avg_n_installs)"
   ]
  },
  {
   "cell_type": "markdown",
   "metadata": {},
   "source": [
    "On average, communication apps have the most installs: 38,456,119. This number is heavily skewed up by a few apps that have over one billion installs (WhatsApp, Facebook Messenger, Skype, Google Chrome, Gmail, and Hangouts), and a few others with over 100 and 500 million installs. On the other hand, the most frequent genre in AppStore, Games have the average number of installs equal to: 15,588,015, which is less the half of Communication in GooglePlayStore. However, the most frequent category FAMILY mostly contains games as its representative.  "
   ]
  },
  {
   "cell_type": "code",
   "execution_count": 50,
   "metadata": {},
   "outputs": [
    {
     "name": "stdout",
     "output_type": "stream",
     "text": [
      "241\n",
      "56\n"
     ]
    }
   ],
   "source": [
    "games_with_100000_plus = []\n",
    "communication_with_100000_plus = []\n",
    "for app in android_english_free:\n",
    "    if app[1] == \"GAME\" and (app[5] == \"1,000,000+\" or app[5] == \"100,000+\"):\n",
    "        games_with_100000_plus.append(app)\n",
    "    elif app[1] == \"COMMUNICATION\" and (app[5] == \"1,000,000+\" or app[5] == \"100,000+\"):\n",
    "        communication_with_100000_plus.append(app)\n",
    "print(len(games_with_100000_plus))\n",
    "print(len(communication_with_100000_plus))"
   ]
  },
  {
   "cell_type": "markdown",
   "metadata": {},
   "source": [
    "There are 241 games and 56 communication apps with 100,000+ and 1,000,000+ installs, which tells us that COMMUNICATION category is less occupied. However, as it was mentioned before, the giants like WhatsApp, Facebook Messenger, Skype etc. are dominating this category, there is no room to spread out. But, considering Games as the most frequent genre in AppStore with the average user rating 4.04, we can possibly try our luck in this genre for both stores. "
   ]
  },
  {
   "cell_type": "markdown",
   "metadata": {},
   "source": [
    "# Conclusion\n",
    "\n",
    "**In this project, we analyzed data about the App Store and Google Play mobile apps with the goal of recommending an app profile that can be profitable for both markets.**\n",
    "\n",
    "We concluded that the Games genre is the most profitable genre at this time. Moreover, taking a popular book (fiction) and turning it into an app (most likely a game) would be a profitable engagement. Nevertheless, Games is the most frequent genre in AppStore, new features must take a place in this game. For example, the implementation of the Games of Thrones world with all elements from the books might possibly be sucessful."
   ]
  }
 ],
 "metadata": {
  "kernelspec": {
   "display_name": "Python 3",
   "language": "python",
   "name": "python3"
  },
  "language_info": {
   "codemirror_mode": {
    "name": "ipython",
    "version": 3
   },
   "file_extension": ".py",
   "mimetype": "text/x-python",
   "name": "python",
   "nbconvert_exporter": "python",
   "pygments_lexer": "ipython3",
   "version": "3.7.3"
  }
 },
 "nbformat": 4,
 "nbformat_minor": 2
}
